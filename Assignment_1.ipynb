{
 "cells": [
  {
   "cell_type": "code",
   "execution_count": null,
   "metadata": {},
   "outputs": [],
   "source": [
    "1. In the below elements which of them are values or an expression? eg:- values can be integer or string and expressions will be mathematical operators.\n",
    "*                   -       expressions\n",
    "'hello'             -       Values\n",
    "-87.8               -        Values\n",
    "-                   -        expressions\n",
    "/                   -        expressions\n",
    "+\t                -        expressions\n",
    "6                  -        Values\n"
   ]
  },
  {
   "cell_type": "code",
   "execution_count": null,
   "metadata": {},
   "outputs": [],
   "source": [
    "2. What is the difference between string and variable?\n",
    "A Variable is a store of information, and a String is a type of information you would store in a Variable. \n",
    "A String is usually words, enclosed with \"\""
   ]
  },
  {
   "cell_type": "code",
   "execution_count": null,
   "metadata": {},
   "outputs": [],
   "source": [
    "3. Describe three different data types.\n",
    "Integer - This value is represented by int class. It contains positive or negative whole numbers. In Python there is no limit to how long an integer value can be.\n",
    "Float - This value is represented by float class. It is a real number with floating point representation. It is specified by a decimal point.\n",
    "Complex Numbers – Complex number is represented by complex class. It is specified as (real part) + (imaginary part)j."
   ]
  },
  {
   "cell_type": "code",
   "execution_count": null,
   "metadata": {},
   "outputs": [],
   "source": [
    "4. What is an expression made up of? What do all expressions do?\n",
    "Expressions represent something, like a number, a string, or an instance of a class. \n",
    "Any value is an expression.name = \"Bala\" is a statement that assigns name to the value of the expression \"Bala\". \n",
    "Since the code \"Bala\" is a simple expression."
   ]
  },
  {
   "cell_type": "code",
   "execution_count": null,
   "metadata": {},
   "outputs": [],
   "source": [
    "5. This assignment statements, like spam = 10. What is the difference between an expression and a statement?\n",
    "An expression evaluates to a value. A statement does something.\n",
    "Spam = 10      # it is a statement\n",
    "Spam +10     # it is an expression"
   ]
  },
  {
   "cell_type": "code",
   "execution_count": null,
   "metadata": {},
   "outputs": [],
   "source": [
    "6. After running the following code, what does the variable bacon contain?\n",
    "bacon = 22   # it is a statement\n",
    "bacon + 1     # it is an expression"
   ]
  },
  {
   "cell_type": "code",
   "execution_count": null,
   "metadata": {},
   "outputs": [],
   "source": [
    "7. What should the values of the following two terms be?\n",
    "'spam' + 'spamspam'    = “spamspamspam”\n",
    "'spam' * 3             = “spamspamspam”"
   ]
  },
  {
   "cell_type": "code",
   "execution_count": null,
   "metadata": {},
   "outputs": [],
   "source": [
    "8. Why is eggs a valid variable name while 100 is invalid?\n",
    "A variable can contain both letters and numbers, but they cannot start with a number."
   ]
  },
  {
   "cell_type": "code",
   "execution_count": null,
   "metadata": {},
   "outputs": [],
   "source": [
    "9. What three functions can be used to get the integer, floating-point number, or string version of a value?\n",
    "int(), float(), and str()"
   ]
  },
  {
   "cell_type": "code",
   "execution_count": null,
   "metadata": {},
   "outputs": [],
   "source": [
    "10. Why does this expression cause an error? How can you fix it?\n",
    "'I have eaten ' + 99 + ' burritos.'\n",
    "String does not allow integers to concatenate, So Change the integer to String in numeric data.\n",
    "'I have eaten ' + “99” + ' burritos.' = “I have eaten 99 burritos”"
   ]
  }
 ],
 "metadata": {
  "kernelspec": {
   "display_name": "Python 3",
   "language": "python",
   "name": "python3"
  },
  "language_info": {
   "codemirror_mode": {
    "name": "ipython",
    "version": 3
   },
   "file_extension": ".py",
   "mimetype": "text/x-python",
   "name": "python",
   "nbconvert_exporter": "python",
   "pygments_lexer": "ipython3",
   "version": "3.7.4"
  }
 },
 "nbformat": 4,
 "nbformat_minor": 2
}
